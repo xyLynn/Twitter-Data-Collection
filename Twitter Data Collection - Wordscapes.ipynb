{
 "cells": [
  {
   "cell_type": "markdown",
   "metadata": {},
   "source": [
    "# Import Packages"
   ]
  },
  {
   "cell_type": "code",
   "execution_count": 1,
   "metadata": {},
   "outputs": [],
   "source": [
    "import tweepy\n",
    "from textblob import TextBlob\n",
    "import emoji\n",
    "import re\n",
    "import string\n",
    "import nltk\n",
    "import pandas as pd\n",
    "from nltk.tokenize import word_tokenize\n",
    "from nltk.corpus import stopwords\n",
    "from nltk.stem import PorterStemmer\n",
    "from nltk.stem import WordNetLemmatizer"
   ]
  },
  {
   "cell_type": "markdown",
   "metadata": {},
   "source": [
    "# Data Collection"
   ]
  },
  {
   "cell_type": "code",
   "execution_count": 2,
   "metadata": {},
   "outputs": [],
   "source": [
    "ACCESS_TOKEN = \"2378032825-QNQ4zETCM2hcIuP80deSHGdTXcrzE7vysvkdcNz\"\n",
    "ACCESS_TOKEN_SECRET = \"JIoaBDifICUapIXWGE1x636itkIrHHxs7he0WwiClY6kv\"\n",
    "CONSUMER_KEY = \"xU5CZUCtq2jNiopmogUvegudT\"\n",
    "CONSUMER_SECRET = \"goL8kGtG5MMe5oKjivh3MT6Ic88iajrjqJ26NpJj5upiJFB3Pa\""
   ]
  },
  {
   "cell_type": "code",
   "execution_count": 3,
   "metadata": {},
   "outputs": [],
   "source": [
    "auth = tweepy.OAuthHandler(CONSUMER_KEY, CONSUMER_SECRET)\n",
    "auth.set_access_token(ACCESS_TOKEN, ACCESS_TOKEN_SECRET)"
   ]
  },
  {
   "cell_type": "code",
   "execution_count": 4,
   "metadata": {},
   "outputs": [],
   "source": [
    "api = tweepy.API(auth)"
   ]
  },
  {
   "cell_type": "code",
   "execution_count": 5,
   "metadata": {},
   "outputs": [],
   "source": [
    "query = 'wordscapes' # set 'wordscapes' as a search query\n",
    "max_tweets = 1000"
   ]
  },
  {
   "cell_type": "code",
   "execution_count": 6,
   "metadata": {},
   "outputs": [],
   "source": [
    "searched_tweets = [status for status in tweepy.Cursor(api.search, q=query, tweet_mode=\"extended\").items(max_tweets)]"
   ]
  },
  {
   "cell_type": "markdown",
   "metadata": {},
   "source": [
    "Helpful resource: [structure-of-tweepy-status-object.json](https://gist.github.com/dev-techmoe/ef676cdd03ac47ac503e856282077bf2)"
   ]
  },
  {
   "cell_type": "markdown",
   "metadata": {},
   "source": [
    "# Data Parsing"
   ]
  },
  {
   "cell_type": "code",
   "execution_count": 7,
   "metadata": {},
   "outputs": [],
   "source": [
    "def get_tweet_type(tweet):\n",
    "    \"\"\" Get tweet type: tweet, retweet, quote, reply\n",
    "    Details for tweet types:  https://gwu-libraries.github.io/sfm-ui/posts/2016-11-10-twitter-interaction\n",
    "    \"\"\"\n",
    "    if hasattr(tweet, 'retweeted_status'):\n",
    "        return \"retweet\"\n",
    "    elif hasattr(tweet, 'quoted_status'):\n",
    "        return \"quote\"\n",
    "    elif tweet.in_reply_to_status_id_str is not None:\n",
    "        return \"reply\"\n",
    "    else:\n",
    "        return \"tweet\""
   ]
  },
  {
   "cell_type": "code",
   "execution_count": 8,
   "metadata": {},
   "outputs": [],
   "source": [
    "def replace_urls(in_string, replacement=None):\n",
    "    \"\"\"Replace URLs in strings.\n",
    "\n",
    "    Args:\n",
    "        in_string (str): string to filter\n",
    "        replacement (str or None): replacment text. defaults to ''\n",
    "\n",
    "    Returns:\n",
    "        str\n",
    "    \"\"\"\n",
    "    replacement = '' \n",
    "    pattern = re.compile('(https?://)?(\\w*[.]\\w+)+([/?=&]+\\w+)*')\n",
    "    return re.sub(pattern, replacement, in_string)"
   ]
  },
  {
   "cell_type": "code",
   "execution_count": 9,
   "metadata": {},
   "outputs": [],
   "source": [
    "def remove_emoji(in_string):\n",
    "    return emoji.get_emoji_regexp().sub(u' ', in_string)"
   ]
  },
  {
   "cell_type": "code",
   "execution_count": 10,
   "metadata": {},
   "outputs": [],
   "source": [
    "def get_original_tweet_id(tweet):\n",
    "    \"\"\" Return original tweet id if tweet type is retweet. Otherwise, return its own id.\n",
    "    \"\"\"\n",
    "    if get_tweet_type(tweet) == \"retweet\":\n",
    "        return tweet.retweeted_status.id\n",
    "    else:\n",
    "        return tweet.id"
   ]
  },
  {
   "cell_type": "code",
   "execution_count": 11,
   "metadata": {},
   "outputs": [],
   "source": [
    "data_df = pd.DataFrame([{\"date\": x.created_at,\n",
    "                         \"text\": x.full_text,\n",
    "                         \"clean_text\": remove_emoji(replace_urls(x.full_text)),\n",
    "                         \"tweet_id\": x.id,\n",
    "                         \"if_retweet\": get_original_tweet_id(x),\n",
    "                         \"user\": x.user.screen_name,\n",
    "                         \"user_bio\": x.user.description,\n",
    "                         \"user_id\": x.user.id,\n",
    "                         \"at_mentions\": [u[\"screen_name\"] for u in x.entities['user_mentions']],\n",
    "                         \"hashtags\": [u[\"text\"] for u in x.entities['hashtags']],\n",
    "                         \"language\": x.lang,\n",
    "                         \"type\": get_tweet_type(x),\n",
    "                         \"retweet_count\": x.retweet_count,\n",
    "                         \"favorite_count\": x.favorite_count,\n",
    "                         \"polarity\": TextBlob(x.full_text).sentiment.polarity} for x in searched_tweets]).set_index(\"date\")"
   ]
  },
  {
   "cell_type": "code",
   "execution_count": 12,
   "metadata": {
    "scrolled": true
   },
   "outputs": [
    {
     "name": "stdout",
     "output_type": "stream",
     "text": [
      "at_mentions                                                      []\n",
      "clean_text        i’m on level 350 on wordscapes in case y’all w...\n",
      "favorite_count                                                    2\n",
      "hashtags                                                         []\n",
      "if_retweet                                      1177060826794139648\n",
      "language                                                         en\n",
      "polarity                                                          0\n",
      "retweet_count                                                     0\n",
      "text              i’m on level 350 on wordscapes in case y’all w...\n",
      "tweet_id                                        1177060826794139648\n",
      "type                                                          tweet\n",
      "user                                                         CA22ON\n",
      "user_bio          Graduate Assistant Coach for @ECUTigersMBB For...\n",
      "user_id                                                   166237422\n",
      "Name: 2019-09-26 03:22:24, dtype: object\n"
     ]
    }
   ],
   "source": [
    "print(data_df.iloc[1])"
   ]
  },
  {
   "cell_type": "code",
   "execution_count": 13,
   "metadata": {},
   "outputs": [
    {
     "data": {
      "text/html": [
       "<div>\n",
       "<style scoped>\n",
       "    .dataframe tbody tr th:only-of-type {\n",
       "        vertical-align: middle;\n",
       "    }\n",
       "\n",
       "    .dataframe tbody tr th {\n",
       "        vertical-align: top;\n",
       "    }\n",
       "\n",
       "    .dataframe thead th {\n",
       "        text-align: right;\n",
       "    }\n",
       "</style>\n",
       "<table border=\"1\" class=\"dataframe\">\n",
       "  <thead>\n",
       "    <tr style=\"text-align: right;\">\n",
       "      <th></th>\n",
       "      <th>tweet_id</th>\n",
       "    </tr>\n",
       "    <tr>\n",
       "      <th>language</th>\n",
       "      <th></th>\n",
       "    </tr>\n",
       "  </thead>\n",
       "  <tbody>\n",
       "    <tr>\n",
       "      <th>en</th>\n",
       "      <td>231</td>\n",
       "    </tr>\n",
       "    <tr>\n",
       "      <th>fr</th>\n",
       "      <td>1</td>\n",
       "    </tr>\n",
       "    <tr>\n",
       "      <th>ht</th>\n",
       "      <td>1</td>\n",
       "    </tr>\n",
       "    <tr>\n",
       "      <th>in</th>\n",
       "      <td>1</td>\n",
       "    </tr>\n",
       "    <tr>\n",
       "      <th>it</th>\n",
       "      <td>1</td>\n",
       "    </tr>\n",
       "    <tr>\n",
       "      <th>pt</th>\n",
       "      <td>1</td>\n",
       "    </tr>\n",
       "    <tr>\n",
       "      <th>tl</th>\n",
       "      <td>36</td>\n",
       "    </tr>\n",
       "    <tr>\n",
       "      <th>und</th>\n",
       "      <td>7</td>\n",
       "    </tr>\n",
       "  </tbody>\n",
       "</table>\n",
       "</div>"
      ],
      "text/plain": [
       "          tweet_id\n",
       "language          \n",
       "en             231\n",
       "fr               1\n",
       "ht               1\n",
       "in               1\n",
       "it               1\n",
       "pt               1\n",
       "tl              36\n",
       "und              7"
      ]
     },
     "execution_count": 13,
     "metadata": {},
     "output_type": "execute_result"
    }
   ],
   "source": [
    "data_df[[\"language\",\"tweet_id\"]].groupby(\"language\").count()"
   ]
  },
  {
   "cell_type": "code",
   "execution_count": 14,
   "metadata": {},
   "outputs": [
    {
     "data": {
      "text/html": [
       "<div>\n",
       "<style scoped>\n",
       "    .dataframe tbody tr th:only-of-type {\n",
       "        vertical-align: middle;\n",
       "    }\n",
       "\n",
       "    .dataframe tbody tr th {\n",
       "        vertical-align: top;\n",
       "    }\n",
       "\n",
       "    .dataframe thead th {\n",
       "        text-align: right;\n",
       "    }\n",
       "</style>\n",
       "<table border=\"1\" class=\"dataframe\">\n",
       "  <thead>\n",
       "    <tr style=\"text-align: right;\">\n",
       "      <th></th>\n",
       "      <th>tweet_id</th>\n",
       "    </tr>\n",
       "    <tr>\n",
       "      <th>type</th>\n",
       "      <th></th>\n",
       "    </tr>\n",
       "  </thead>\n",
       "  <tbody>\n",
       "    <tr>\n",
       "      <th>quote</th>\n",
       "      <td>12</td>\n",
       "    </tr>\n",
       "    <tr>\n",
       "      <th>reply</th>\n",
       "      <td>52</td>\n",
       "    </tr>\n",
       "    <tr>\n",
       "      <th>retweet</th>\n",
       "      <td>18</td>\n",
       "    </tr>\n",
       "    <tr>\n",
       "      <th>tweet</th>\n",
       "      <td>197</td>\n",
       "    </tr>\n",
       "  </tbody>\n",
       "</table>\n",
       "</div>"
      ],
      "text/plain": [
       "         tweet_id\n",
       "type             \n",
       "quote          12\n",
       "reply          52\n",
       "retweet        18\n",
       "tweet         197"
      ]
     },
     "execution_count": 14,
     "metadata": {},
     "output_type": "execute_result"
    }
   ],
   "source": [
    "data_df[[\"type\",\"tweet_id\"]].groupby(\"type\").count()"
   ]
  },
  {
   "cell_type": "code",
   "execution_count": 15,
   "metadata": {},
   "outputs": [],
   "source": [
    "def get_emotion(df):\n",
    "    \"\"\"\n",
    "    polarity = 0: neutral;\n",
    "    polarity > 0: positive;\n",
    "    polarity < 0: negative.\n",
    "    \"\"\"\n",
    "    if df['polarity'] == 0:\n",
    "        return 'neutral'\n",
    "    elif df['polarity'] > 0.0:\n",
    "        return 'positive'\n",
    "    else:\n",
    "        return 'negative'"
   ]
  },
  {
   "cell_type": "code",
   "execution_count": 16,
   "metadata": {},
   "outputs": [],
   "source": [
    "data_df['emotion'] = data_df.apply(get_emotion, axis=1)"
   ]
  },
  {
   "cell_type": "code",
   "execution_count": 17,
   "metadata": {},
   "outputs": [
    {
     "name": "stdout",
     "output_type": "stream",
     "text": [
      "<class 'pandas.core.frame.DataFrame'>\n",
      "DatetimeIndex: 279 entries, 2019-09-26 04:18:18 to 2019-09-16 17:36:48\n",
      "Data columns (total 15 columns):\n",
      "at_mentions       279 non-null object\n",
      "clean_text        279 non-null object\n",
      "favorite_count    279 non-null int64\n",
      "hashtags          279 non-null object\n",
      "if_retweet        279 non-null int64\n",
      "language          279 non-null object\n",
      "polarity          279 non-null float64\n",
      "retweet_count     279 non-null int64\n",
      "text              279 non-null object\n",
      "tweet_id          279 non-null int64\n",
      "type              279 non-null object\n",
      "user              279 non-null object\n",
      "user_bio          279 non-null object\n",
      "user_id           279 non-null int64\n",
      "emotion           279 non-null object\n",
      "dtypes: float64(1), int64(5), object(9)\n",
      "memory usage: 34.9+ KB\n"
     ]
    }
   ],
   "source": [
    "data_df.info()"
   ]
  },
  {
   "cell_type": "code",
   "execution_count": 18,
   "metadata": {
    "scrolled": true
   },
   "outputs": [
    {
     "data": {
      "text/html": [
       "<div>\n",
       "<style scoped>\n",
       "    .dataframe tbody tr th:only-of-type {\n",
       "        vertical-align: middle;\n",
       "    }\n",
       "\n",
       "    .dataframe tbody tr th {\n",
       "        vertical-align: top;\n",
       "    }\n",
       "\n",
       "    .dataframe thead th {\n",
       "        text-align: right;\n",
       "    }\n",
       "</style>\n",
       "<table border=\"1\" class=\"dataframe\">\n",
       "  <thead>\n",
       "    <tr style=\"text-align: right;\">\n",
       "      <th></th>\n",
       "      <th>at_mentions</th>\n",
       "      <th>clean_text</th>\n",
       "      <th>favorite_count</th>\n",
       "      <th>hashtags</th>\n",
       "      <th>if_retweet</th>\n",
       "      <th>language</th>\n",
       "      <th>polarity</th>\n",
       "      <th>retweet_count</th>\n",
       "      <th>text</th>\n",
       "      <th>tweet_id</th>\n",
       "      <th>type</th>\n",
       "      <th>user</th>\n",
       "      <th>user_bio</th>\n",
       "      <th>user_id</th>\n",
       "      <th>emotion</th>\n",
       "    </tr>\n",
       "    <tr>\n",
       "      <th>date</th>\n",
       "      <th></th>\n",
       "      <th></th>\n",
       "      <th></th>\n",
       "      <th></th>\n",
       "      <th></th>\n",
       "      <th></th>\n",
       "      <th></th>\n",
       "      <th></th>\n",
       "      <th></th>\n",
       "      <th></th>\n",
       "      <th></th>\n",
       "      <th></th>\n",
       "      <th></th>\n",
       "      <th></th>\n",
       "      <th></th>\n",
       "    </tr>\n",
       "  </thead>\n",
       "  <tbody>\n",
       "    <tr>\n",
       "      <th>2019-09-26 04:18:18</th>\n",
       "      <td>[]</td>\n",
       "      <td>I'm getting sick of the Wordscapes daily puzzl...</td>\n",
       "      <td>0</td>\n",
       "      <td>[]</td>\n",
       "      <td>1177074894867259392</td>\n",
       "      <td>en</td>\n",
       "      <td>-0.357143</td>\n",
       "      <td>0</td>\n",
       "      <td>I'm getting sick of the Wordscapes daily puzzl...</td>\n",
       "      <td>1177074894867259392</td>\n",
       "      <td>tweet</td>\n",
       "      <td>A_Baca55</td>\n",
       "      <td>I Have A Podcast, It's Ok</td>\n",
       "      <td>388541172</td>\n",
       "      <td>negative</td>\n",
       "    </tr>\n",
       "    <tr>\n",
       "      <th>2019-09-26 03:22:24</th>\n",
       "      <td>[]</td>\n",
       "      <td>i’m on level 350 on wordscapes in case y’all w...</td>\n",
       "      <td>2</td>\n",
       "      <td>[]</td>\n",
       "      <td>1177060826794139648</td>\n",
       "      <td>en</td>\n",
       "      <td>0.000000</td>\n",
       "      <td>0</td>\n",
       "      <td>i’m on level 350 on wordscapes in case y’all w...</td>\n",
       "      <td>1177060826794139648</td>\n",
       "      <td>tweet</td>\n",
       "      <td>CA22ON</td>\n",
       "      <td>Graduate Assistant Coach for @ECUTigersMBB For...</td>\n",
       "      <td>166237422</td>\n",
       "      <td>neutral</td>\n",
       "    </tr>\n",
       "    <tr>\n",
       "      <th>2019-09-26 02:51:54</th>\n",
       "      <td>[]</td>\n",
       "      <td>I'm gonna finish my wordscapes daily puzzle an...</td>\n",
       "      <td>0</td>\n",
       "      <td>[]</td>\n",
       "      <td>1177053151406542848</td>\n",
       "      <td>en</td>\n",
       "      <td>0.000000</td>\n",
       "      <td>0</td>\n",
       "      <td>I'm gonna finish my wordscapes daily puzzle an...</td>\n",
       "      <td>1177053151406542848</td>\n",
       "      <td>tweet</td>\n",
       "      <td>drcosimacormier</td>\n",
       "      <td>this Queen loves her beautiful Goddess 💖  #1 @...</td>\n",
       "      <td>4319425588</td>\n",
       "      <td>neutral</td>\n",
       "    </tr>\n",
       "    <tr>\n",
       "      <th>2019-09-26 02:37:41</th>\n",
       "      <td>[]</td>\n",
       "      <td>Ciara has played 2,000 games of Wordscapes and...</td>\n",
       "      <td>0</td>\n",
       "      <td>[]</td>\n",
       "      <td>1177049574143352832</td>\n",
       "      <td>en</td>\n",
       "      <td>0.000000</td>\n",
       "      <td>0</td>\n",
       "      <td>Ciara has played 2,000 games of Wordscapes and...</td>\n",
       "      <td>1177049574143352832</td>\n",
       "      <td>tweet</td>\n",
       "      <td>codyst3wart</td>\n",
       "      <td></td>\n",
       "      <td>42117032</td>\n",
       "      <td>neutral</td>\n",
       "    </tr>\n",
       "    <tr>\n",
       "      <th>2019-09-26 00:40:01</th>\n",
       "      <td>[]</td>\n",
       "      <td>Come play Wordscapes! It's a fun combination o...</td>\n",
       "      <td>0</td>\n",
       "      <td>[]</td>\n",
       "      <td>1177019961233084416</td>\n",
       "      <td>en</td>\n",
       "      <td>0.375000</td>\n",
       "      <td>0</td>\n",
       "      <td>Come play Wordscapes! It's a fun combination o...</td>\n",
       "      <td>1177019961233084416</td>\n",
       "      <td>tweet</td>\n",
       "      <td>Naddez</td>\n",
       "      <td>Rockin' the Grandma Life #productreviewer #fam...</td>\n",
       "      <td>19444649</td>\n",
       "      <td>positive</td>\n",
       "    </tr>\n",
       "  </tbody>\n",
       "</table>\n",
       "</div>"
      ],
      "text/plain": [
       "                    at_mentions  \\\n",
       "date                              \n",
       "2019-09-26 04:18:18          []   \n",
       "2019-09-26 03:22:24          []   \n",
       "2019-09-26 02:51:54          []   \n",
       "2019-09-26 02:37:41          []   \n",
       "2019-09-26 00:40:01          []   \n",
       "\n",
       "                                                            clean_text  \\\n",
       "date                                                                     \n",
       "2019-09-26 04:18:18  I'm getting sick of the Wordscapes daily puzzl...   \n",
       "2019-09-26 03:22:24  i’m on level 350 on wordscapes in case y’all w...   \n",
       "2019-09-26 02:51:54  I'm gonna finish my wordscapes daily puzzle an...   \n",
       "2019-09-26 02:37:41  Ciara has played 2,000 games of Wordscapes and...   \n",
       "2019-09-26 00:40:01  Come play Wordscapes! It's a fun combination o...   \n",
       "\n",
       "                     favorite_count hashtags           if_retweet language  \\\n",
       "date                                                                         \n",
       "2019-09-26 04:18:18               0       []  1177074894867259392       en   \n",
       "2019-09-26 03:22:24               2       []  1177060826794139648       en   \n",
       "2019-09-26 02:51:54               0       []  1177053151406542848       en   \n",
       "2019-09-26 02:37:41               0       []  1177049574143352832       en   \n",
       "2019-09-26 00:40:01               0       []  1177019961233084416       en   \n",
       "\n",
       "                     polarity  retweet_count  \\\n",
       "date                                           \n",
       "2019-09-26 04:18:18 -0.357143              0   \n",
       "2019-09-26 03:22:24  0.000000              0   \n",
       "2019-09-26 02:51:54  0.000000              0   \n",
       "2019-09-26 02:37:41  0.000000              0   \n",
       "2019-09-26 00:40:01  0.375000              0   \n",
       "\n",
       "                                                                  text  \\\n",
       "date                                                                     \n",
       "2019-09-26 04:18:18  I'm getting sick of the Wordscapes daily puzzl...   \n",
       "2019-09-26 03:22:24  i’m on level 350 on wordscapes in case y’all w...   \n",
       "2019-09-26 02:51:54  I'm gonna finish my wordscapes daily puzzle an...   \n",
       "2019-09-26 02:37:41  Ciara has played 2,000 games of Wordscapes and...   \n",
       "2019-09-26 00:40:01  Come play Wordscapes! It's a fun combination o...   \n",
       "\n",
       "                                tweet_id   type             user  \\\n",
       "date                                                               \n",
       "2019-09-26 04:18:18  1177074894867259392  tweet         A_Baca55   \n",
       "2019-09-26 03:22:24  1177060826794139648  tweet           CA22ON   \n",
       "2019-09-26 02:51:54  1177053151406542848  tweet  drcosimacormier   \n",
       "2019-09-26 02:37:41  1177049574143352832  tweet      codyst3wart   \n",
       "2019-09-26 00:40:01  1177019961233084416  tweet           Naddez   \n",
       "\n",
       "                                                              user_bio  \\\n",
       "date                                                                     \n",
       "2019-09-26 04:18:18                          I Have A Podcast, It's Ok   \n",
       "2019-09-26 03:22:24  Graduate Assistant Coach for @ECUTigersMBB For...   \n",
       "2019-09-26 02:51:54  this Queen loves her beautiful Goddess 💖  #1 @...   \n",
       "2019-09-26 02:37:41                                                      \n",
       "2019-09-26 00:40:01  Rockin' the Grandma Life #productreviewer #fam...   \n",
       "\n",
       "                        user_id   emotion  \n",
       "date                                       \n",
       "2019-09-26 04:18:18   388541172  negative  \n",
       "2019-09-26 03:22:24   166237422   neutral  \n",
       "2019-09-26 02:51:54  4319425588   neutral  \n",
       "2019-09-26 02:37:41    42117032   neutral  \n",
       "2019-09-26 00:40:01    19444649  positive  "
      ]
     },
     "execution_count": 18,
     "metadata": {},
     "output_type": "execute_result"
    }
   ],
   "source": [
    "data_df.head()"
   ]
  },
  {
   "cell_type": "code",
   "execution_count": 19,
   "metadata": {},
   "outputs": [],
   "source": [
    "retweet_list = []"
   ]
  },
  {
   "cell_type": "code",
   "execution_count": 20,
   "metadata": {},
   "outputs": [],
   "source": [
    "for tweet in searched_tweets:\n",
    "    if get_tweet_type(tweet) == \"retweet\":\n",
    "        retweet_list.append(tweet)"
   ]
  },
  {
   "cell_type": "code",
   "execution_count": 21,
   "metadata": {},
   "outputs": [],
   "source": [
    "retweet_df = pd.DataFrame([{\"date\": x.retweeted_status.created_at,\n",
    "                         \"text\": x.retweeted_status.full_text,\n",
    "                         \"clean_text\": remove_emoji(replace_urls(x.retweeted_status.full_text)),\n",
    "                         \"tweet_id\": x.retweeted_status.id,\n",
    "                         \"user\": x.retweeted_status.user.screen_name,\n",
    "                         \"user_bio\": x.retweeted_status.user.description,\n",
    "                         \"user_id\": x.retweeted_status.user.id,\n",
    "                         \"at_mentions\": [u[\"screen_name\"] for u in x.retweeted_status.entities['user_mentions']],\n",
    "                         \"hashtags\": [u[\"text\"] for u in x.retweeted_status.entities['hashtags']],\n",
    "                         \"language\": x.retweeted_status.lang,\n",
    "                         \"type\": get_tweet_type(x),\n",
    "                         \"retweet_count\": x.retweeted_status.retweet_count,\n",
    "                         \"favorite_count\": x.retweeted_status.favorite_count,\n",
    "                         \"polarity\": TextBlob(x.retweeted_status.full_text).sentiment.polarity} for x in retweet_list]).set_index(\"date\")"
   ]
  },
  {
   "cell_type": "code",
   "execution_count": 22,
   "metadata": {},
   "outputs": [],
   "source": [
    "retweet_df['emotion'] = retweet_df.apply(get_emotion, axis=1)"
   ]
  },
  {
   "cell_type": "code",
   "execution_count": 23,
   "metadata": {
    "scrolled": true
   },
   "outputs": [
    {
     "data": {
      "text/html": [
       "<div>\n",
       "<style scoped>\n",
       "    .dataframe tbody tr th:only-of-type {\n",
       "        vertical-align: middle;\n",
       "    }\n",
       "\n",
       "    .dataframe tbody tr th {\n",
       "        vertical-align: top;\n",
       "    }\n",
       "\n",
       "    .dataframe thead th {\n",
       "        text-align: right;\n",
       "    }\n",
       "</style>\n",
       "<table border=\"1\" class=\"dataframe\">\n",
       "  <thead>\n",
       "    <tr style=\"text-align: right;\">\n",
       "      <th></th>\n",
       "      <th>at_mentions</th>\n",
       "      <th>clean_text</th>\n",
       "      <th>favorite_count</th>\n",
       "      <th>hashtags</th>\n",
       "      <th>language</th>\n",
       "      <th>polarity</th>\n",
       "      <th>retweet_count</th>\n",
       "      <th>text</th>\n",
       "      <th>tweet_id</th>\n",
       "      <th>type</th>\n",
       "      <th>user</th>\n",
       "      <th>user_bio</th>\n",
       "      <th>user_id</th>\n",
       "      <th>emotion</th>\n",
       "    </tr>\n",
       "    <tr>\n",
       "      <th>date</th>\n",
       "      <th></th>\n",
       "      <th></th>\n",
       "      <th></th>\n",
       "      <th></th>\n",
       "      <th></th>\n",
       "      <th></th>\n",
       "      <th></th>\n",
       "      <th></th>\n",
       "      <th></th>\n",
       "      <th></th>\n",
       "      <th></th>\n",
       "      <th></th>\n",
       "      <th></th>\n",
       "      <th></th>\n",
       "    </tr>\n",
       "  </thead>\n",
       "  <tbody>\n",
       "    <tr>\n",
       "      <th>2019-09-25 12:23:06</th>\n",
       "      <td>[]</td>\n",
       "      <td>me: *has 7 chapters of a book to read AND writ...</td>\n",
       "      <td>6</td>\n",
       "      <td>[]</td>\n",
       "      <td>en</td>\n",
       "      <td>0.000000</td>\n",
       "      <td>1</td>\n",
       "      <td>me: *has 7 chapters of a book to read AND writ...</td>\n",
       "      <td>1176834509301518346</td>\n",
       "      <td>retweet</td>\n",
       "      <td>mmaddie_brookee</td>\n",
       "      <td>Thrower for Shawnee State. PTA ‘21. Exercise S...</td>\n",
       "      <td>1030099251991400448</td>\n",
       "      <td>neutral</td>\n",
       "    </tr>\n",
       "    <tr>\n",
       "      <th>2019-09-24 10:32:28</th>\n",
       "      <td>[]</td>\n",
       "      <td>A palpable absence of excitement as the Circle...</td>\n",
       "      <td>26</td>\n",
       "      <td>[]</td>\n",
       "      <td>en</td>\n",
       "      <td>0.017708</td>\n",
       "      <td>5</td>\n",
       "      <td>A palpable absence of excitement as the Circle...</td>\n",
       "      <td>1176444282070339584</td>\n",
       "      <td>retweet</td>\n",
       "      <td>BarbaraRich_law</td>\n",
       "      <td>Barrister/mediator, law of mental incapacity, ...</td>\n",
       "      <td>586531888</td>\n",
       "      <td>positive</td>\n",
       "    </tr>\n",
       "    <tr>\n",
       "      <th>2019-09-24 10:32:28</th>\n",
       "      <td>[]</td>\n",
       "      <td>A palpable absence of excitement as the Circle...</td>\n",
       "      <td>26</td>\n",
       "      <td>[]</td>\n",
       "      <td>en</td>\n",
       "      <td>0.017708</td>\n",
       "      <td>5</td>\n",
       "      <td>A palpable absence of excitement as the Circle...</td>\n",
       "      <td>1176444282070339584</td>\n",
       "      <td>retweet</td>\n",
       "      <td>BarbaraRich_law</td>\n",
       "      <td>Barrister/mediator, law of mental incapacity, ...</td>\n",
       "      <td>586531888</td>\n",
       "      <td>positive</td>\n",
       "    </tr>\n",
       "    <tr>\n",
       "      <th>2019-09-24 10:32:28</th>\n",
       "      <td>[]</td>\n",
       "      <td>A palpable absence of excitement as the Circle...</td>\n",
       "      <td>26</td>\n",
       "      <td>[]</td>\n",
       "      <td>en</td>\n",
       "      <td>0.017708</td>\n",
       "      <td>5</td>\n",
       "      <td>A palpable absence of excitement as the Circle...</td>\n",
       "      <td>1176444282070339584</td>\n",
       "      <td>retweet</td>\n",
       "      <td>BarbaraRich_law</td>\n",
       "      <td>Barrister/mediator, law of mental incapacity, ...</td>\n",
       "      <td>586531888</td>\n",
       "      <td>positive</td>\n",
       "    </tr>\n",
       "    <tr>\n",
       "      <th>2019-09-24 10:32:28</th>\n",
       "      <td>[]</td>\n",
       "      <td>A palpable absence of excitement as the Circle...</td>\n",
       "      <td>26</td>\n",
       "      <td>[]</td>\n",
       "      <td>en</td>\n",
       "      <td>0.017708</td>\n",
       "      <td>5</td>\n",
       "      <td>A palpable absence of excitement as the Circle...</td>\n",
       "      <td>1176444282070339584</td>\n",
       "      <td>retweet</td>\n",
       "      <td>BarbaraRich_law</td>\n",
       "      <td>Barrister/mediator, law of mental incapacity, ...</td>\n",
       "      <td>586531888</td>\n",
       "      <td>positive</td>\n",
       "    </tr>\n",
       "  </tbody>\n",
       "</table>\n",
       "</div>"
      ],
      "text/plain": [
       "                    at_mentions  \\\n",
       "date                              \n",
       "2019-09-25 12:23:06          []   \n",
       "2019-09-24 10:32:28          []   \n",
       "2019-09-24 10:32:28          []   \n",
       "2019-09-24 10:32:28          []   \n",
       "2019-09-24 10:32:28          []   \n",
       "\n",
       "                                                            clean_text  \\\n",
       "date                                                                     \n",
       "2019-09-25 12:23:06  me: *has 7 chapters of a book to read AND writ...   \n",
       "2019-09-24 10:32:28  A palpable absence of excitement as the Circle...   \n",
       "2019-09-24 10:32:28  A palpable absence of excitement as the Circle...   \n",
       "2019-09-24 10:32:28  A palpable absence of excitement as the Circle...   \n",
       "2019-09-24 10:32:28  A palpable absence of excitement as the Circle...   \n",
       "\n",
       "                     favorite_count hashtags language  polarity  \\\n",
       "date                                                              \n",
       "2019-09-25 12:23:06               6       []       en  0.000000   \n",
       "2019-09-24 10:32:28              26       []       en  0.017708   \n",
       "2019-09-24 10:32:28              26       []       en  0.017708   \n",
       "2019-09-24 10:32:28              26       []       en  0.017708   \n",
       "2019-09-24 10:32:28              26       []       en  0.017708   \n",
       "\n",
       "                     retweet_count  \\\n",
       "date                                 \n",
       "2019-09-25 12:23:06              1   \n",
       "2019-09-24 10:32:28              5   \n",
       "2019-09-24 10:32:28              5   \n",
       "2019-09-24 10:32:28              5   \n",
       "2019-09-24 10:32:28              5   \n",
       "\n",
       "                                                                  text  \\\n",
       "date                                                                     \n",
       "2019-09-25 12:23:06  me: *has 7 chapters of a book to read AND writ...   \n",
       "2019-09-24 10:32:28  A palpable absence of excitement as the Circle...   \n",
       "2019-09-24 10:32:28  A palpable absence of excitement as the Circle...   \n",
       "2019-09-24 10:32:28  A palpable absence of excitement as the Circle...   \n",
       "2019-09-24 10:32:28  A palpable absence of excitement as the Circle...   \n",
       "\n",
       "                                tweet_id     type             user  \\\n",
       "date                                                                 \n",
       "2019-09-25 12:23:06  1176834509301518346  retweet  mmaddie_brookee   \n",
       "2019-09-24 10:32:28  1176444282070339584  retweet  BarbaraRich_law   \n",
       "2019-09-24 10:32:28  1176444282070339584  retweet  BarbaraRich_law   \n",
       "2019-09-24 10:32:28  1176444282070339584  retweet  BarbaraRich_law   \n",
       "2019-09-24 10:32:28  1176444282070339584  retweet  BarbaraRich_law   \n",
       "\n",
       "                                                              user_bio  \\\n",
       "date                                                                     \n",
       "2019-09-25 12:23:06  Thrower for Shawnee State. PTA ‘21. Exercise S...   \n",
       "2019-09-24 10:32:28  Barrister/mediator, law of mental incapacity, ...   \n",
       "2019-09-24 10:32:28  Barrister/mediator, law of mental incapacity, ...   \n",
       "2019-09-24 10:32:28  Barrister/mediator, law of mental incapacity, ...   \n",
       "2019-09-24 10:32:28  Barrister/mediator, law of mental incapacity, ...   \n",
       "\n",
       "                                 user_id   emotion  \n",
       "date                                                \n",
       "2019-09-25 12:23:06  1030099251991400448   neutral  \n",
       "2019-09-24 10:32:28            586531888  positive  \n",
       "2019-09-24 10:32:28            586531888  positive  \n",
       "2019-09-24 10:32:28            586531888  positive  \n",
       "2019-09-24 10:32:28            586531888  positive  "
      ]
     },
     "execution_count": 23,
     "metadata": {},
     "output_type": "execute_result"
    }
   ],
   "source": [
    "retweet_df.head()"
   ]
  },
  {
   "cell_type": "code",
   "execution_count": 24,
   "metadata": {},
   "outputs": [],
   "source": [
    "retweet_df = retweet_df.drop_duplicates(subset='tweet_id', keep=\"last\")"
   ]
  },
  {
   "cell_type": "code",
   "execution_count": 25,
   "metadata": {
    "scrolled": true
   },
   "outputs": [
    {
     "name": "stdout",
     "output_type": "stream",
     "text": [
      "<class 'pandas.core.frame.DataFrame'>\n",
      "DatetimeIndex: 11 entries, 2019-09-25 12:23:06 to 2019-09-16 23:10:01\n",
      "Data columns (total 14 columns):\n",
      "at_mentions       11 non-null object\n",
      "clean_text        11 non-null object\n",
      "favorite_count    11 non-null int64\n",
      "hashtags          11 non-null object\n",
      "language          11 non-null object\n",
      "polarity          11 non-null float64\n",
      "retweet_count     11 non-null int64\n",
      "text              11 non-null object\n",
      "tweet_id          11 non-null int64\n",
      "type              11 non-null object\n",
      "user              11 non-null object\n",
      "user_bio          11 non-null object\n",
      "user_id           11 non-null int64\n",
      "emotion           11 non-null object\n",
      "dtypes: float64(1), int64(4), object(9)\n",
      "memory usage: 1.3+ KB\n"
     ]
    }
   ],
   "source": [
    "retweet_df.info()"
   ]
  },
  {
   "cell_type": "markdown",
   "metadata": {},
   "source": [
    "# Data Normalization"
   ]
  },
  {
   "cell_type": "code",
   "execution_count": 26,
   "metadata": {},
   "outputs": [],
   "source": [
    "df_for_norm = data_df[data_df['language'] == 'en']"
   ]
  },
  {
   "cell_type": "code",
   "execution_count": 27,
   "metadata": {},
   "outputs": [],
   "source": [
    "clean_text = df_for_norm['clean_text'].tolist()\n",
    "mentions = df_for_norm['at_mentions'].tolist()\n",
    "hashtags = df_for_norm['hashtags'].tolist()\n",
    "tweet_id = df_for_norm['tweet_id'].tolist()"
   ]
  },
  {
   "cell_type": "code",
   "execution_count": 28,
   "metadata": {},
   "outputs": [],
   "source": [
    "def remove_mh(in_string, mentions, hashtags):\n",
    "    \"\"\"Remove at_mentions and hashtags from tweets.\n",
    "    \"\"\"\n",
    "    mentions = ['@'+s for s in mentions]\n",
    "    hashtags = ['#'+s for s in hashtags]\n",
    "    stopwords = mentions+hashtags\n",
    "    querywords = in_string.split()\n",
    "    resultwords  = [word for word in querywords if word not in stopwords]\n",
    "    result = ' '.join(resultwords)\n",
    "    return result"
   ]
  },
  {
   "cell_type": "code",
   "execution_count": 29,
   "metadata": {},
   "outputs": [],
   "source": [
    "def normalize(in_string, mentions, hashtags):\n",
    "    \"\"\"Normalize tweets' text.\n",
    "    \"\"\"\n",
    "    in_string = remove_mh(in_string, mentions, hashtags)\n",
    "    result = in_string.lower() # To Lower\n",
    "    result = result.translate(str.maketrans(' ',' ',string.punctuation)) # Remove Puntuation\n",
    "    result = result.strip() # Remove White Space\n",
    "    lemmatizer=WordNetLemmatizer() # Lemmatization\n",
    "    stop_words = set(stopwords.words('english')) # Remove Stop Words, at_mentions and hashtags\n",
    "    tokens = word_tokenize(result)\n",
    "    result = [lemmatizer.lemmatize(i) for i in tokens if not i in stop_words]\n",
    "    return result"
   ]
  },
  {
   "cell_type": "code",
   "execution_count": 30,
   "metadata": {},
   "outputs": [],
   "source": [
    "list_norm = []"
   ]
  },
  {
   "cell_type": "code",
   "execution_count": 31,
   "metadata": {},
   "outputs": [],
   "source": [
    "for i in range(len(clean_text)):\n",
    "    dic_norm = {\n",
    "        \"tweet_id\": tweet_id[i],\n",
    "        \"tokens\": normalize(clean_text[i], mentions[i], hashtags[i])\n",
    "    }\n",
    "    list_norm.append(dic_norm)"
   ]
  },
  {
   "cell_type": "code",
   "execution_count": 32,
   "metadata": {},
   "outputs": [],
   "source": [
    "df_norm = pd.DataFrame(list_norm)"
   ]
  },
  {
   "cell_type": "code",
   "execution_count": 33,
   "metadata": {},
   "outputs": [
    {
     "data": {
      "text/html": [
       "<div>\n",
       "<style scoped>\n",
       "    .dataframe tbody tr th:only-of-type {\n",
       "        vertical-align: middle;\n",
       "    }\n",
       "\n",
       "    .dataframe tbody tr th {\n",
       "        vertical-align: top;\n",
       "    }\n",
       "\n",
       "    .dataframe thead th {\n",
       "        text-align: right;\n",
       "    }\n",
       "</style>\n",
       "<table border=\"1\" class=\"dataframe\">\n",
       "  <thead>\n",
       "    <tr style=\"text-align: right;\">\n",
       "      <th></th>\n",
       "      <th>tokens</th>\n",
       "      <th>tweet_id</th>\n",
       "    </tr>\n",
       "  </thead>\n",
       "  <tbody>\n",
       "    <tr>\n",
       "      <th>0</th>\n",
       "      <td>[im, getting, sick, wordscapes, daily, puzzle,...</td>\n",
       "      <td>1177074894867259392</td>\n",
       "    </tr>\n",
       "    <tr>\n",
       "      <th>1</th>\n",
       "      <td>[’, level, 350, wordscapes, case, ’, wondering...</td>\n",
       "      <td>1177060826794139648</td>\n",
       "    </tr>\n",
       "    <tr>\n",
       "      <th>2</th>\n",
       "      <td>[im, gon, na, finish, wordscapes, daily, puzzl...</td>\n",
       "      <td>1177053151406542848</td>\n",
       "    </tr>\n",
       "    <tr>\n",
       "      <th>3</th>\n",
       "      <td>[ciara, played, 2000, game, wordscapes, ’, bel...</td>\n",
       "      <td>1177049574143352832</td>\n",
       "    </tr>\n",
       "    <tr>\n",
       "      <th>4</th>\n",
       "      <td>[come, play, wordscapes, fun, combination, wor...</td>\n",
       "      <td>1177019961233084416</td>\n",
       "    </tr>\n",
       "  </tbody>\n",
       "</table>\n",
       "</div>"
      ],
      "text/plain": [
       "                                              tokens             tweet_id\n",
       "0  [im, getting, sick, wordscapes, daily, puzzle,...  1177074894867259392\n",
       "1  [’, level, 350, wordscapes, case, ’, wondering...  1177060826794139648\n",
       "2  [im, gon, na, finish, wordscapes, daily, puzzl...  1177053151406542848\n",
       "3  [ciara, played, 2000, game, wordscapes, ’, bel...  1177049574143352832\n",
       "4  [come, play, wordscapes, fun, combination, wor...  1177019961233084416"
      ]
     },
     "execution_count": 33,
     "metadata": {},
     "output_type": "execute_result"
    }
   ],
   "source": [
    "df_norm.head()"
   ]
  },
  {
   "cell_type": "code",
   "execution_count": 34,
   "metadata": {},
   "outputs": [],
   "source": [
    "df_norm_clean = df_norm.tokens.apply(pd.Series) \\\n",
    " .merge(df_norm, right_index = True, left_index = True) \\\n",
    " .drop([\"tokens\"], axis = 1) \\\n",
    " .melt(id_vars = ['tweet_id'], value_name = \"tokens\") \\\n",
    " .drop(\"variable\", axis = 1) \\\n",
    " .dropna()"
   ]
  },
  {
   "cell_type": "code",
   "execution_count": 35,
   "metadata": {},
   "outputs": [
    {
     "data": {
      "text/html": [
       "<div>\n",
       "<style scoped>\n",
       "    .dataframe tbody tr th:only-of-type {\n",
       "        vertical-align: middle;\n",
       "    }\n",
       "\n",
       "    .dataframe tbody tr th {\n",
       "        vertical-align: top;\n",
       "    }\n",
       "\n",
       "    .dataframe thead th {\n",
       "        text-align: right;\n",
       "    }\n",
       "</style>\n",
       "<table border=\"1\" class=\"dataframe\">\n",
       "  <thead>\n",
       "    <tr style=\"text-align: right;\">\n",
       "      <th></th>\n",
       "      <th>tweet_id</th>\n",
       "      <th>tokens</th>\n",
       "    </tr>\n",
       "  </thead>\n",
       "  <tbody>\n",
       "    <tr>\n",
       "      <th>0</th>\n",
       "      <td>1177074894867259392</td>\n",
       "      <td>im</td>\n",
       "    </tr>\n",
       "    <tr>\n",
       "      <th>1</th>\n",
       "      <td>1177060826794139648</td>\n",
       "      <td>’</td>\n",
       "    </tr>\n",
       "    <tr>\n",
       "      <th>2</th>\n",
       "      <td>1177053151406542848</td>\n",
       "      <td>im</td>\n",
       "    </tr>\n",
       "    <tr>\n",
       "      <th>3</th>\n",
       "      <td>1177049574143352832</td>\n",
       "      <td>ciara</td>\n",
       "    </tr>\n",
       "    <tr>\n",
       "      <th>4</th>\n",
       "      <td>1177019961233084416</td>\n",
       "      <td>come</td>\n",
       "    </tr>\n",
       "  </tbody>\n",
       "</table>\n",
       "</div>"
      ],
      "text/plain": [
       "              tweet_id tokens\n",
       "0  1177074894867259392     im\n",
       "1  1177060826794139648      ’\n",
       "2  1177053151406542848     im\n",
       "3  1177049574143352832  ciara\n",
       "4  1177019961233084416   come"
      ]
     },
     "execution_count": 35,
     "metadata": {},
     "output_type": "execute_result"
    }
   ],
   "source": [
    "df_norm_clean.head()"
   ]
  },
  {
   "cell_type": "code",
   "execution_count": 36,
   "metadata": {},
   "outputs": [],
   "source": [
    "df_freq = df_norm_clean[[\"tokens\",\"tweet_id\"]].groupby(\"tokens\").count()"
   ]
  },
  {
   "cell_type": "code",
   "execution_count": 37,
   "metadata": {},
   "outputs": [
    {
     "data": {
      "text/html": [
       "<div>\n",
       "<style scoped>\n",
       "    .dataframe tbody tr th:only-of-type {\n",
       "        vertical-align: middle;\n",
       "    }\n",
       "\n",
       "    .dataframe tbody tr th {\n",
       "        vertical-align: top;\n",
       "    }\n",
       "\n",
       "    .dataframe thead th {\n",
       "        text-align: right;\n",
       "    }\n",
       "</style>\n",
       "<table border=\"1\" class=\"dataframe\">\n",
       "  <thead>\n",
       "    <tr style=\"text-align: right;\">\n",
       "      <th></th>\n",
       "      <th>tweet_id</th>\n",
       "    </tr>\n",
       "    <tr>\n",
       "      <th>tokens</th>\n",
       "      <th></th>\n",
       "    </tr>\n",
       "  </thead>\n",
       "  <tbody>\n",
       "    <tr>\n",
       "      <th>1</th>\n",
       "      <td>13</td>\n",
       "    </tr>\n",
       "    <tr>\n",
       "      <th>10</th>\n",
       "      <td>2</td>\n",
       "    </tr>\n",
       "    <tr>\n",
       "      <th>11</th>\n",
       "      <td>2</td>\n",
       "    </tr>\n",
       "    <tr>\n",
       "      <th>114</th>\n",
       "      <td>1</td>\n",
       "    </tr>\n",
       "    <tr>\n",
       "      <th>116</th>\n",
       "      <td>1</td>\n",
       "    </tr>\n",
       "  </tbody>\n",
       "</table>\n",
       "</div>"
      ],
      "text/plain": [
       "        tweet_id\n",
       "tokens          \n",
       "1             13\n",
       "10             2\n",
       "11             2\n",
       "114            1\n",
       "116            1"
      ]
     },
     "execution_count": 37,
     "metadata": {},
     "output_type": "execute_result"
    }
   ],
   "source": [
    "df_freq.head()"
   ]
  },
  {
   "cell_type": "markdown",
   "metadata": {},
   "source": [
    "# Data Exportation"
   ]
  },
  {
   "cell_type": "code",
   "execution_count": 38,
   "metadata": {},
   "outputs": [],
   "source": [
    "tweet_data = data_df.drop(['if_retweet'], axis=1)"
   ]
  },
  {
   "cell_type": "code",
   "execution_count": 39,
   "metadata": {},
   "outputs": [],
   "source": [
    "tweet_data = tweet_data[tweet_data['type'] != 'retweet']"
   ]
  },
  {
   "cell_type": "code",
   "execution_count": 40,
   "metadata": {},
   "outputs": [
    {
     "name": "stdout",
     "output_type": "stream",
     "text": [
      "<class 'pandas.core.frame.DataFrame'>\n",
      "DatetimeIndex: 261 entries, 2019-09-26 04:18:18 to 2019-09-16 17:36:48\n",
      "Data columns (total 14 columns):\n",
      "at_mentions       261 non-null object\n",
      "clean_text        261 non-null object\n",
      "favorite_count    261 non-null int64\n",
      "hashtags          261 non-null object\n",
      "language          261 non-null object\n",
      "polarity          261 non-null float64\n",
      "retweet_count     261 non-null int64\n",
      "text              261 non-null object\n",
      "tweet_id          261 non-null int64\n",
      "type              261 non-null object\n",
      "user              261 non-null object\n",
      "user_bio          261 non-null object\n",
      "user_id           261 non-null int64\n",
      "emotion           261 non-null object\n",
      "dtypes: float64(1), int64(4), object(9)\n",
      "memory usage: 30.6+ KB\n"
     ]
    }
   ],
   "source": [
    "tweet_data.info()"
   ]
  },
  {
   "cell_type": "code",
   "execution_count": 41,
   "metadata": {},
   "outputs": [],
   "source": [
    "frames = [tweet_data, retweet_df]"
   ]
  },
  {
   "cell_type": "code",
   "execution_count": 42,
   "metadata": {},
   "outputs": [],
   "source": [
    "df_comb = pd.concat(frames)"
   ]
  },
  {
   "cell_type": "code",
   "execution_count": 43,
   "metadata": {},
   "outputs": [
    {
     "name": "stdout",
     "output_type": "stream",
     "text": [
      "<class 'pandas.core.frame.DataFrame'>\n",
      "DatetimeIndex: 272 entries, 2019-09-26 04:18:18 to 2019-09-16 23:10:01\n",
      "Data columns (total 14 columns):\n",
      "at_mentions       272 non-null object\n",
      "clean_text        272 non-null object\n",
      "favorite_count    272 non-null int64\n",
      "hashtags          272 non-null object\n",
      "language          272 non-null object\n",
      "polarity          272 non-null float64\n",
      "retweet_count     272 non-null int64\n",
      "text              272 non-null object\n",
      "tweet_id          272 non-null int64\n",
      "type              272 non-null object\n",
      "user              272 non-null object\n",
      "user_bio          272 non-null object\n",
      "user_id           272 non-null int64\n",
      "emotion           272 non-null object\n",
      "dtypes: float64(1), int64(4), object(9)\n",
      "memory usage: 31.9+ KB\n"
     ]
    }
   ],
   "source": [
    "df_comb.info()"
   ]
  },
  {
   "cell_type": "code",
   "execution_count": 44,
   "metadata": {},
   "outputs": [],
   "source": [
    "with pd.ExcelWriter('twitter.xlsx') as writer: \n",
    "    retweet_df.to_excel(writer, sheet_name='Retweet')\n",
    "    data_df.to_excel(writer, sheet_name='Raw Data')\n",
    "    df_comb.to_excel(writer, sheet_name='Combination')\n",
    "    df_freq.to_excel(writer, sheet_name='Frequency')\n",
    "    df_norm_clean.to_excel(writer, sheet_name='Tokens')"
   ]
  }
 ],
 "metadata": {
  "kernelspec": {
   "display_name": "Python 3",
   "language": "python",
   "name": "python3"
  },
  "language_info": {
   "codemirror_mode": {
    "name": "ipython",
    "version": 3
   },
   "file_extension": ".py",
   "mimetype": "text/x-python",
   "name": "python",
   "nbconvert_exporter": "python",
   "pygments_lexer": "ipython3",
   "version": "3.7.3"
  }
 },
 "nbformat": 4,
 "nbformat_minor": 2
}
